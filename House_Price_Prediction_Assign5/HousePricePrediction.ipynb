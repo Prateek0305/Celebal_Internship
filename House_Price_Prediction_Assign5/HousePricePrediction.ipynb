{
  "cells": [
    {
      "cell_type": "markdown",
      "id": "83bd7454",
      "metadata": {
        "id": "83bd7454"
      },
      "source": [
        "#  House Price Prediction with Preprocessing and Feature Engineering"
      ]
    },
    {
      "cell_type": "code",
      "execution_count": 4,
      "id": "4455ba85",
      "metadata": {
        "colab": {
          "base_uri": "https://localhost:8080/"
        },
        "id": "4455ba85",
        "outputId": "9b0904c9-8040-446d-efef-3e49146e7b90"
      },
      "outputs": [
        {
          "output_type": "execute_result",
          "data": {
            "text/plain": [
              "((1460, 81), (1459, 80))"
            ]
          },
          "metadata": {},
          "execution_count": 4
        }
      ],
      "source": [
        "\n",
        "import pandas as pd\n",
        "import numpy as np\n",
        "\n",
        "# Loading dataset\n",
        "train = pd.read_csv(\"train.csv\")\n",
        "test = pd.read_csv(\"test.csv\")\n",
        "\n",
        "train.shape, test.shape\n"
      ]
    },
    {
      "cell_type": "code",
      "execution_count": 5,
      "id": "dae14151",
      "metadata": {
        "colab": {
          "base_uri": "https://localhost:8080/"
        },
        "id": "dae14151",
        "outputId": "aa255657-7b73-4185-ff51-7623569d457c"
      },
      "outputs": [
        {
          "output_type": "execute_result",
          "data": {
            "text/plain": [
              "(2919, 79)"
            ]
          },
          "metadata": {},
          "execution_count": 5
        }
      ],
      "source": [
        "\n",
        "# Saving and dropping ID\n",
        "train_ID = train['Id']\n",
        "test_ID = test['Id']\n",
        "train.drop(\"Id\", axis=1, inplace=True)\n",
        "test.drop(\"Id\", axis=1, inplace=True)\n",
        "\n",
        "# Log transform SalePrice\n",
        "train[\"SalePrice\"] = np.log1p(train[\"SalePrice\"])\n",
        "\n",
        "# Combine train and test for preprocessing\n",
        "ntrain = train.shape[0]\n",
        "y_train = train[\"SalePrice\"]\n",
        "all_data = pd.concat((train.drop(['SalePrice'], axis=1), test)).reset_index(drop=True)\n",
        "\n",
        "all_data.shape\n"
      ]
    },
    {
      "cell_type": "code",
      "execution_count": 6,
      "id": "e0f718a2",
      "metadata": {
        "colab": {
          "base_uri": "https://localhost:8080/",
          "height": 35
        },
        "id": "e0f718a2",
        "outputId": "98e37d3e-0376-436c-8691-a8c773559540"
      },
      "outputs": [
        {
          "output_type": "execute_result",
          "data": {
            "text/plain": [
              "'Missing values handled.'"
            ],
            "application/vnd.google.colaboratory.intrinsic+json": {
              "type": "string"
            }
          },
          "metadata": {},
          "execution_count": 6
        }
      ],
      "source": [
        "\n",
        "# Handling missing data\n",
        "def handle_missing(df):\n",
        "    none_cols = ['PoolQC','MiscFeature','Alley','Fence','FireplaceQu','GarageType',\n",
        "                 'GarageFinish','GarageQual','GarageCond','BsmtQual','BsmtCond',\n",
        "                 'BsmtExposure','BsmtFinType1','BsmtFinType2','MasVnrType']\n",
        "    for col in none_cols:\n",
        "        df[col] = df[col].fillna(\"None\")\n",
        "    zero_cols = ['GarageYrBlt','GarageArea','GarageCars','BsmtFinSF1','BsmtFinSF2',\n",
        "                 'BsmtUnfSF','TotalBsmtSF','BsmtFullBath','BsmtHalfBath','MasVnrArea']\n",
        "    for col in zero_cols:\n",
        "        df[col] = df[col].fillna(0)\n",
        "    mode_cols = ['MSZoning', 'Functional', 'KitchenQual', 'Electrical', 'SaleType', 'Exterior1st', 'Exterior2nd']\n",
        "    for col in mode_cols:\n",
        "        df[col] = df[col].fillna(df[col].mode()[0])\n",
        "    df[\"LotFrontage\"] = df.groupby(\"Neighborhood\")[\"LotFrontage\"].transform(lambda x: x.fillna(x.median()))\n",
        "    return df\n",
        "\n",
        "all_data = handle_missing(all_data)\n",
        "\"Missing values handled.\"\n"
      ]
    },
    {
      "cell_type": "code",
      "execution_count": 7,
      "id": "837bf410",
      "metadata": {
        "colab": {
          "base_uri": "https://localhost:8080/",
          "height": 35
        },
        "id": "837bf410",
        "outputId": "c1821c8d-0597-4d2d-a8a6-9a8a3c5fd321"
      },
      "outputs": [
        {
          "output_type": "execute_result",
          "data": {
            "text/plain": [
              "'Label encoding completed.'"
            ],
            "application/vnd.google.colaboratory.intrinsic+json": {
              "type": "string"
            }
          },
          "metadata": {},
          "execution_count": 7
        }
      ],
      "source": [
        "\n",
        "# Converting types and label encoding ordinal features\n",
        "from sklearn.preprocessing import LabelEncoder\n",
        "\n",
        "all_data[\"MSSubClass\"] = all_data[\"MSSubClass\"].astype(str)\n",
        "all_data[\"OverallCond\"] = all_data[\"OverallCond\"].astype(str)\n",
        "all_data[\"YrSold\"] = all_data[\"YrSold\"].astype(str)\n",
        "all_data[\"MoSold\"] = all_data[\"MoSold\"].astype(str)\n",
        "\n",
        "label_cols = ['FireplaceQu','BsmtQual', 'BsmtCond','GarageQual','GarageCond',\n",
        "              'ExterQual','ExterCond','HeatingQC','PoolQC','KitchenQual','BsmtFinType1',\n",
        "              'BsmtFinType2','Functional','BsmtExposure','GarageFinish','LandSlope',\n",
        "              'LotShape','PavedDrive','Street','Alley','CentralAir','Utilities']\n",
        "for col in label_cols:\n",
        "    lbl = LabelEncoder()\n",
        "    all_data[col] = lbl.fit_transform(all_data[col].astype(str))\n",
        "\"Label encoding completed.\"\n"
      ]
    },
    {
      "cell_type": "code",
      "execution_count": 8,
      "id": "0d6aa825",
      "metadata": {
        "colab": {
          "base_uri": "https://localhost:8080/",
          "height": 35
        },
        "id": "0d6aa825",
        "outputId": "585c354b-9170-4f02-fd1b-8bedb94188de"
      },
      "outputs": [
        {
          "output_type": "execute_result",
          "data": {
            "text/plain": [
              "'Feature engineering completed.'"
            ],
            "application/vnd.google.colaboratory.intrinsic+json": {
              "type": "string"
            }
          },
          "metadata": {},
          "execution_count": 8
        }
      ],
      "source": [
        "\n",
        "# Creating new features\n",
        "all_data[\"TotalSF\"] = all_data['TotalBsmtSF'] + all_data['1stFlrSF'] + all_data['2ndFlrSF']\n",
        "all_data['Age'] = all_data['YrSold'].astype(int) - all_data['YearBuilt']\n",
        "all_data['RemodAge'] = all_data['YrSold'].astype(int) - all_data['YearRemodAdd']\n",
        "all_data['TotalBath'] = all_data['FullBath'] + all_data['HalfBath']*0.5 + all_data['BsmtFullBath'] + all_data['BsmtHalfBath']*0.5\n",
        "all_data['TotalPorchSF'] = all_data['OpenPorchSF'] + all_data['EnclosedPorch'] + all_data['3SsnPorch'] + all_data['ScreenPorch']\n",
        "\"Feature engineering completed.\"\n"
      ]
    },
    {
      "cell_type": "code",
      "execution_count": 9,
      "id": "78654752",
      "metadata": {
        "colab": {
          "base_uri": "https://localhost:8080/",
          "height": 35
        },
        "id": "78654752",
        "outputId": "15547a9a-6cac-437c-fa5d-dfba96d3a16b"
      },
      "outputs": [
        {
          "output_type": "execute_result",
          "data": {
            "text/plain": [
              "'Skewed features transformed.'"
            ],
            "application/vnd.google.colaboratory.intrinsic+json": {
              "type": "string"
            }
          },
          "metadata": {},
          "execution_count": 9
        }
      ],
      "source": [
        "\n",
        "# Log-transform skewed numeric features\n",
        "from scipy.stats import skew\n",
        "\n",
        "numeric_feats = all_data.dtypes[all_data.dtypes != \"object\"].index\n",
        "skewed_feats = all_data[numeric_feats].apply(lambda x: skew(x.dropna())).sort_values(ascending=False)\n",
        "skewness = pd.DataFrame({'Skew': skewed_feats})\n",
        "\n",
        "skewed_features = skewness[abs(skewness[\"Skew\"]) > 0.75].index\n",
        "all_data[skewed_features] = np.log1p(all_data[skewed_features])\n",
        "\"Skewed features transformed.\"\n"
      ]
    },
    {
      "cell_type": "code",
      "execution_count": 10,
      "id": "3e3a90bf",
      "metadata": {
        "colab": {
          "base_uri": "https://localhost:8080/",
          "height": 35
        },
        "id": "3e3a90bf",
        "outputId": "e2efcf16-77c7-45fc-e8cc-46ef7ad1e5c1"
      },
      "outputs": [
        {
          "output_type": "execute_result",
          "data": {
            "text/plain": [
              "'One-hot encoding completed.'"
            ],
            "application/vnd.google.colaboratory.intrinsic+json": {
              "type": "string"
            }
          },
          "metadata": {},
          "execution_count": 10
        }
      ],
      "source": [
        "\n",
        "# One-hot encoding\n",
        "all_data = pd.get_dummies(all_data)\n",
        "\"One-hot encoding completed.\"\n"
      ]
    },
    {
      "cell_type": "code",
      "execution_count": 11,
      "id": "80bd7b98",
      "metadata": {
        "colab": {
          "base_uri": "https://localhost:8080/"
        },
        "id": "80bd7b98",
        "outputId": "f91d4b8b-779d-4bea-d19c-727f2edc05c5"
      },
      "outputs": [
        {
          "output_type": "execute_result",
          "data": {
            "text/plain": [
              "((1460, 268), (1459, 268))"
            ]
          },
          "metadata": {},
          "execution_count": 11
        }
      ],
      "source": [
        "\n",
        "# Split back into train and test sets\n",
        "X_train = all_data[:ntrain]\n",
        "X_test = all_data[ntrain:]\n",
        "\n",
        "X_train.shape, X_test.shape\n"
      ]
    },
    {
      "cell_type": "code",
      "execution_count": 12,
      "id": "0f85ac36",
      "metadata": {
        "colab": {
          "base_uri": "https://localhost:8080/",
          "height": 35
        },
        "id": "0f85ac36",
        "outputId": "ed7f5680-beb6-4496-da68-1a7f38dee3b0"
      },
      "outputs": [
        {
          "output_type": "execute_result",
          "data": {
            "text/plain": [
              "'Cross-validated RMSE: 0.1271'"
            ],
            "application/vnd.google.colaboratory.intrinsic+json": {
              "type": "string"
            }
          },
          "metadata": {},
          "execution_count": 12
        }
      ],
      "source": [
        "\n",
        "# Training XGBoost and making predictions\n",
        "import xgboost as xgb\n",
        "from sklearn.model_selection import cross_val_score\n",
        "\n",
        "xgb_model = xgb.XGBRegressor(n_estimators=1000, learning_rate=0.05, max_depth=4, random_state=42)\n",
        "xgb_model.fit(X_train, y_train)\n",
        "scores = cross_val_score(xgb_model, X_train, y_train, scoring=\"neg_root_mean_squared_error\", cv=5)\n",
        "f\"Cross-validated RMSE: {-scores.mean():.4f}\"\n"
      ]
    },
    {
      "cell_type": "code",
      "execution_count": 13,
      "id": "2e634157",
      "metadata": {
        "colab": {
          "base_uri": "https://localhost:8080/",
          "height": 35
        },
        "id": "2e634157",
        "outputId": "c7de5e4e-42a4-4c06-f623-3d95d97a335f"
      },
      "outputs": [
        {
          "output_type": "execute_result",
          "data": {
            "text/plain": [
              "'Submission file created: house_price_submission.csv'"
            ],
            "application/vnd.google.colaboratory.intrinsic+json": {
              "type": "string"
            }
          },
          "metadata": {},
          "execution_count": 13
        }
      ],
      "source": [
        "\n",
        "# Predicting and exporting submission\n",
        "preds = np.expm1(xgb_model.predict(X_test))\n",
        "submission = pd.DataFrame({\n",
        "    \"Id\": test_ID,\n",
        "    \"SalePrice\": preds\n",
        "})\n",
        "submission.to_csv(\"house_price_submission.csv\", index=False)\n",
        "\"Submission file created: house_price_submission.csv\"\n"
      ]
    }
  ],
  "metadata": {
    "kernelspec": {
      "display_name": "Python 3 (ipykernel)",
      "language": "python",
      "name": "python3"
    },
    "language_info": {
      "codemirror_mode": {
        "name": "ipython",
        "version": 3
      },
      "file_extension": ".py",
      "mimetype": "text/x-python",
      "name": "python",
      "nbconvert_exporter": "python",
      "pygments_lexer": "ipython3",
      "version": "3.12.3"
    },
    "colab": {
      "provenance": []
    }
  },
  "nbformat": 4,
  "nbformat_minor": 5
}