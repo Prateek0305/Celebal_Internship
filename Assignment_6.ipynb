{
 "cells": [
  {
   "cell_type": "markdown",
   "id": "5bc8e153-0c1c-4478-9c23-fce51fa52a6a",
   "metadata": {},
   "source": [
    " **implementation of machine learning models for House Price Prediction using the Kaggle House Prices** "
   ]
  },
  {
   "cell_type": "code",
   "execution_count": 30,
   "id": "217c18eb-f7dd-47a6-b3d7-abdc9b09fc26",
   "metadata": {},
   "outputs": [],
   "source": [
    "import pandas as pd\n",
    "import numpy as np\n",
    "from sklearn.model_selection import train_test_split, GridSearchCV, RandomizedSearchCV\n",
    "from sklearn.linear_model import LinearRegression, Ridge, Lasso\n",
    "from sklearn.ensemble import RandomForestRegressor, GradientBoostingRegressor, StackingRegressor\n",
    "from sklearn.metrics import r2_score, mean_squared_error, mean_absolute_error\n",
    "from xgboost import XGBRegressor\n",
    "import warnings\n",
    "warnings.filterwarnings('ignore')\n"
   ]
  },
  {
   "cell_type": "code",
   "execution_count": 32,
   "id": "b54ce8a4-f9aa-4e99-bae9-6a4276466ad0",
   "metadata": {},
   "outputs": [],
   "source": [
    "train = pd.read_csv(\"../ASSIGNMENT_5/train.csv\")\n",
    "test = pd.read_csv(\"../ASSIGNMENT_5/test.csv\")\n",
    "\n",
    "y = train['SalePrice']\n",
    "X = train.drop(['SalePrice'], axis=1)\n"
   ]
  },
  {
   "cell_type": "code",
   "execution_count": 33,
   "id": "0ee352eb-a2b8-4764-aeb9-f59c304e8f70",
   "metadata": {},
   "outputs": [],
   "source": [
    "all_data = pd.concat([X, test], axis=0)"
   ]
  },
  {
   "cell_type": "code",
   "execution_count": 34,
   "id": "ac341168-d590-4c2d-857a-551b4e909d71",
   "metadata": {},
   "outputs": [],
   "source": [
    "all_data['TotalSF'] = all_data['TotalBsmtSF'] + all_data['1stFlrSF'] + all_data['2ndFlrSF']\n",
    "all_data['HouseAge'] = all_data['YrSold'] - all_data['YearBuilt']\n",
    "all_data['RemodAge'] = all_data['YrSold'] - all_data['YearRemodAdd']\n",
    "all_data.drop(['Utilities'], axis=1, inplace=True)  "
   ]
  },
  {
   "cell_type": "code",
   "execution_count": 35,
   "id": "74b95af1-6482-49ab-9d25-528601f0afaa",
   "metadata": {},
   "outputs": [],
   "source": [
    "\n",
    "all_data.fillna(all_data.mode().iloc[0], inplace=True)\n",
    "all_data = pd.get_dummies(all_data)\n",
    "\n",
    "X = all_data[:len(train)]\n",
    "X_test = all_data[len(train):]\n",
    "\n",
    "X_train, X_val, y_train, y_val = train_test_split(X, y, test_size=0.2, random_state=42)\n"
   ]
  },
  {
   "cell_type": "code",
   "execution_count": 36,
   "id": "d1d078ed-cc2f-4945-8b1b-b950cc7acf16",
   "metadata": {},
   "outputs": [],
   "source": [
    "def evaluate_model(name, model):\n",
    "    model.fit(X_train, y_train)\n",
    "    preds = model.predict(X_val)\n",
    "    print(f\"\\n{name} Evaluation:\")\n",
    "    print(\"R² Score :\", r2_score(y_val, preds))\n",
    "    print(\"RMSE      :\", np.sqrt(mean_squared_error(y_val, preds)))\n",
    "    print(\"MAE       :\", mean_absolute_error(y_val, preds))\n",
    "    return r2_score(y_val, preds)"
   ]
  },
  {
   "cell_type": "code",
   "execution_count": 53,
   "id": "f5203df5-396d-4d37-92a4-0d4b4e607e4f",
   "metadata": {},
   "outputs": [
    {
     "name": "stdout",
     "output_type": "stream",
     "text": [
      "\n",
      "XGBoost (Tuned) Evaluation:\n",
      "R² Score : 0.9161829352378845\n",
      "RMSE      : 25355.559232641666\n",
      "MAE       : 15607.458984375\n"
     ]
    },
    {
     "data": {
      "text/plain": [
       "0.9161829352378845"
      ]
     },
     "execution_count": 53,
     "metadata": {},
     "output_type": "execute_result"
    }
   ],
   "source": [
    "xgb = XGBRegressor(random_state=42)\n",
    "param_dist_xgb = {\n",
    "    'n_estimators': [400, 200,300],\n",
    "    'learning_rate': [0.01, 0.1, 0.3],\n",
    "    'max_depth': [3, 6, 9],\n",
    "    'subsample': [0.7, 0.9, 1.0]\n",
    "}\n",
    "\n",
    "rs_xgb = RandomizedSearchCV(xgb, param_distributions=param_dist_xgb, n_iter=10, cv=3, scoring='r2', n_jobs=-1, random_state=42)\n",
    "rs_xgb.fit(X_train, y_train)\n",
    "evaluate_model(\"XGBoost (Tuned)\", rs_xgb.best_estimator_)\n"
   ]
  },
  {
   "cell_type": "code",
   "execution_count": 54,
   "id": "de162a05-b611-442f-beab-06f8385e1103",
   "metadata": {},
   "outputs": [
    {
     "name": "stdout",
     "output_type": "stream",
     "text": [
      "\n",
      "Random Forest (Tuned) Evaluation:\n",
      "R² Score : 0.8870085806678427\n",
      "RMSE      : 29439.447088739904\n",
      "MAE       : 17566.174797465406\n"
     ]
    },
    {
     "data": {
      "text/plain": [
       "0.8870085806678427"
      ]
     },
     "execution_count": 54,
     "metadata": {},
     "output_type": "execute_result"
    }
   ],
   "source": [
    "rf = RandomForestRegressor(random_state=42)\n",
    "param_grid_rf = {\n",
    "    'n_estimators': [400, 200,300],\n",
    "    'max_depth': [10, 20, None],\n",
    "    'min_samples_split': [2, 5, 10]\n",
    "}\n",
    "\n",
    "gs_rf = GridSearchCV(rf, param_grid_rf, cv=3, n_jobs=-1, scoring='r2')\n",
    "gs_rf.fit(X_train, y_train)\n",
    "evaluate_model(\"Random Forest (Tuned)\", gs_rf.best_estimator_)\n"
   ]
  },
  {
   "cell_type": "code",
   "execution_count": 55,
   "id": "d363937f-c90a-48a6-9660-1fb861a4a5c3",
   "metadata": {},
   "outputs": [
    {
     "name": "stdout",
     "output_type": "stream",
     "text": [
      "\n",
      "Linear Regression Evaluation:\n",
      "R² Score : 0.8864534351013472\n",
      "RMSE      : 29511.6789166291\n",
      "MAE       : 18282.146968581666\n",
      "\n",
      "Ridge Evaluation:\n",
      "R² Score : 0.8837357404769963\n",
      "RMSE      : 29862.766060405404\n",
      "MAE       : 18975.16312991064\n",
      "\n",
      "Lasso Evaluation:\n",
      "R² Score : 0.8957911500382255\n",
      "RMSE      : 28272.17488773423\n",
      "MAE       : 17908.811135467506\n",
      "\n",
      "Best Random Forest Evaluation:\n",
      "R² Score : 0.8870085806678427\n",
      "RMSE      : 29439.447088739904\n",
      "MAE       : 17566.174797465406\n",
      "\n",
      "Best XGBoost Evaluation:\n",
      "R² Score : 0.9161829352378845\n",
      "RMSE      : 25355.559232641666\n",
      "MAE       : 15607.458984375\n"
     ]
    }
   ],
   "source": [
    "models = {\n",
    "    \"Linear Regression\": LinearRegression(),\n",
    "    \"Ridge\": Ridge(),\n",
    "    \"Lasso\": Lasso(),\n",
    "    \"Best Random Forest\": gs_rf.best_estimator_,\n",
    "    \"Best XGBoost\": rs_xgb.best_estimator_\n",
    "}\n",
    "scores = {}\n",
    "for name, model in models.items():\n",
    "    score = evaluate_model(name, model)\n",
    "    scores[name] = score"
   ]
  },
  {
   "cell_type": "code",
   "execution_count": 56,
   "id": "2ee4ac79-aeba-4a01-bb88-e54aaab484e9",
   "metadata": {},
   "outputs": [
    {
     "name": "stdout",
     "output_type": "stream",
     "text": [
      "\n",
      "Stacking Regressor Evaluation:\n",
      "R² Score : 0.918635203342532\n",
      "RMSE      : 24981.88407915279\n",
      "MAE       : 14757.336968049025\n"
     ]
    }
   ],
   "source": [
    "stack_model = StackingRegressor(\n",
    "    estimators=[\n",
    "        (\"xgb\", rs_xgb.best_estimator_),\n",
    "        (\"rf\", gs_rf.best_estimator_),\n",
    "        (\"ridge\", Ridge())\n",
    "    ],\n",
    "    final_estimator=LinearRegression(),\n",
    "    n_jobs=-1\n",
    ")\n",
    "stack_score = evaluate_model(\"Stacking Regressor\", stack_model)\n",
    "scores[\"Stacking Regressor\"] = stack_score"
   ]
  },
  {
   "cell_type": "code",
   "execution_count": 57,
   "id": "031b8e9e-0cab-4629-b60b-1b3fd9b5c645",
   "metadata": {},
   "outputs": [
    {
     "name": "stdout",
     "output_type": "stream",
     "text": [
      "\n",
      "Best model is: Stacking Regressor with R² Score: 0.918635203342532\n"
     ]
    }
   ],
   "source": [
    "best_model = max(scores, key=scores.get)\n",
    "print(\"\\nBest model is:\", best_model, \"with R² Score:\", scores[best_model])"
   ]
  },
  {
   "cell_type": "code",
   "execution_count": 58,
   "id": "4f9bb034-f4d8-43c8-8e41-3059d583ebcc",
   "metadata": {},
   "outputs": [],
   "source": [
    "final_model = models.get(best_model, stack_model if best_model == \"Stacking Regressor\" else None)\n",
    "final_model.fit(X, y)\n",
    "test_preds = final_model.predict(X_test)\n",
    "test_preds = np.expm1(test_preds) "
   ]
  },
  {
   "cell_type": "code",
   "execution_count": 59,
   "id": "a2ae8567-7cee-40d7-bf79-6407dff33a0c",
   "metadata": {},
   "outputs": [
    {
     "name": "stdout",
     "output_type": "stream",
     "text": [
      "\n",
      "Submission file created: submission.csv\n"
     ]
    }
   ],
   "source": [
    "submission = pd.DataFrame({\n",
    "    'Id': test['Id'],\n",
    "    'SalePrice': test_preds\n",
    "})\n",
    "submission.to_csv(\"submission.csv\", index=False)\n",
    "print(\"\\nSubmission file created: submission.csv\")"
   ]
  },
  {
   "cell_type": "code",
   "execution_count": null,
   "id": "cd661c70-2b02-415a-90f3-4d8816c2f036",
   "metadata": {},
   "outputs": [],
   "source": []
  }
 ],
 "metadata": {
  "kernelspec": {
   "display_name": "Python 3 (ipykernel)",
   "language": "python",
   "name": "python3"
  },
  "language_info": {
   "codemirror_mode": {
    "name": "ipython",
    "version": 3
   },
   "file_extension": ".py",
   "mimetype": "text/x-python",
   "name": "python",
   "nbconvert_exporter": "python",
   "pygments_lexer": "ipython3",
   "version": "3.12.3"
  }
 },
 "nbformat": 4,
 "nbformat_minor": 5
}
